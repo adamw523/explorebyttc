{
 "cells": [
  {
   "cell_type": "markdown",
   "id": "5142aa40",
   "metadata": {},
   "source": [
    "# Pick a random station"
   ]
  },
  {
   "cell_type": "code",
   "execution_count": 45,
   "id": "d132d010",
   "metadata": {},
   "outputs": [],
   "source": [
    "import io\n",
    "import json\n",
    "import pandas as pd\n",
    "from random import randint\n",
    "import requests\n",
    "import zipfile"
   ]
  },
  {
   "cell_type": "code",
   "execution_count": null,
   "id": "d8118c86",
   "metadata": {},
   "outputs": [],
   "source": []
  },
  {
   "cell_type": "markdown",
   "id": "4105eab4",
   "metadata": {},
   "source": [
    "## Get all stations\n",
    "\n",
    "Toronto's _TTC Routes and Schedules_ data source: https://open.toronto.ca/dataset/ttc-routes-and-schedules/"
   ]
  },
  {
   "cell_type": "code",
   "execution_count": 42,
   "id": "0dc6ad86",
   "metadata": {},
   "outputs": [],
   "source": [
    "url = \"https://ckan0.cf.opendata.inter.prod-toronto.ca/api/3/action/package_show\"\n",
    "params = { \"id\": \"7795b45e-e65a-4465-81fc-c36b9dfff169\"}\n",
    "package = requests.get(url, params = params).json()\n",
    "# print(package[\"result\"])"
   ]
  },
  {
   "cell_type": "code",
   "execution_count": 5,
   "id": "b0dea18d",
   "metadata": {},
   "outputs": [
    {
     "name": "stdout",
     "output_type": "stream",
     "text": [
      "https://ckan0.cf.opendata.inter.prod-toronto.ca/dataset/7795b45e-e65a-4465-81fc-c36b9dfff169/resource/cfb6b2b8-6191-41e3-bda1-b175c51148cb/download/opendata_ttc_schedules.zip\n"
     ]
    }
   ],
   "source": [
    "print(package[\"result\"][\"resources\"][0][\"url\"])"
   ]
  },
  {
   "cell_type": "code",
   "execution_count": null,
   "id": "b68f2367",
   "metadata": {},
   "outputs": [],
   "source": []
  },
  {
   "cell_type": "markdown",
   "id": "566a0e62",
   "metadata": {},
   "source": [
    "#### Download zip file and get `stops.txt` file contents"
   ]
  },
  {
   "cell_type": "code",
   "execution_count": 6,
   "id": "4bbb3c7a",
   "metadata": {},
   "outputs": [],
   "source": [
    "r = requests.get(\"https://ckan0.cf.opendata.inter.prod-toronto.ca/dataset/7795b45e-e65a-4465-81fc-c36b9dfff169/resource/cfb6b2b8-6191-41e3-bda1-b175c51148cb/download/opendata_ttc_schedules.zip\")"
   ]
  },
  {
   "cell_type": "code",
   "execution_count": 7,
   "id": "72fb0687",
   "metadata": {},
   "outputs": [],
   "source": [
    "zip_file = zipfile.ZipFile(io.BytesIO(r.content))"
   ]
  },
  {
   "cell_type": "code",
   "execution_count": 39,
   "id": "5773fe1f",
   "metadata": {},
   "outputs": [
    {
     "data": {
      "text/plain": [
       "[<ZipInfo filename='agency.txt' compress_type=deflate filemode='-rw-rw-rw-' file_size=149 compress_size=107>,\n",
       " <ZipInfo filename='calendar.txt' compress_type=deflate filemode='-rw-rw-rw-' file_size=379 compress_size=121>,\n",
       " <ZipInfo filename='calendar_dates.txt' compress_type=deflate filemode='-rw-rw-rw-' file_size=553 compress_size=141>,\n",
       " <ZipInfo filename='routes.txt' compress_type=deflate filemode='-rw-rw-rw-' file_size=9301 compress_size=2318>,\n",
       " <ZipInfo filename='shapes.txt' compress_type=deflate filemode='-rw-rw-rw-' file_size=13986788 compress_size=3043106>,\n",
       " <ZipInfo filename='stops.txt' compress_type=deflate filemode='-rw-rw-rw-' file_size=680413 compress_size=216106>,\n",
       " <ZipInfo filename='stop_times.txt' compress_type=deflate filemode='-rw-rw-rw-' file_size=200072079 compress_size=30129290>,\n",
       " <ZipInfo filename='trips.txt' compress_type=deflate filemode='-rw-rw-rw-' file_size=11616799 compress_size=653096>]"
      ]
     },
     "execution_count": 39,
     "metadata": {},
     "output_type": "execute_result"
    }
   ],
   "source": [
    "zip_file.filelist"
   ]
  },
  {
   "cell_type": "code",
   "execution_count": 8,
   "id": "67b10e9f",
   "metadata": {},
   "outputs": [],
   "source": [
    "stops_raw = zip_file.read(\"stops.txt\")"
   ]
  },
  {
   "cell_type": "code",
   "execution_count": null,
   "id": "5b31bdcd",
   "metadata": {},
   "outputs": [],
   "source": []
  },
  {
   "cell_type": "markdown",
   "id": "e9b10aec",
   "metadata": {},
   "source": [
    "#### Parse out only records that are `Stations` "
   ]
  },
  {
   "cell_type": "code",
   "execution_count": 94,
   "id": "d55d44b3",
   "metadata": {},
   "outputs": [],
   "source": [
    "stops_df = pd.read_csv(io.BytesIO(stops_raw), keep_default_na=False)"
   ]
  },
  {
   "cell_type": "code",
   "execution_count": 95,
   "id": "d97eb476",
   "metadata": {},
   "outputs": [],
   "source": [
    "stops_containing_station_df = pd.DataFrame(stops_df[stops_df[\"stop_name\"].str.contains(\" Station -\")])"
   ]
  },
  {
   "cell_type": "code",
   "execution_count": 96,
   "id": "d10f13af",
   "metadata": {},
   "outputs": [],
   "source": [
    "stops_containing_station_df[\"station_name\"] = \\\n",
    "    stops_containing_station_df[\"stop_name\"].str.split(\"Station -\").str[0].str.strip()"
   ]
  },
  {
   "cell_type": "code",
   "execution_count": 97,
   "id": "b8e49aed",
   "metadata": {},
   "outputs": [],
   "source": [
    "stations_df = stops_containing_station_df.drop_duplicates(subset=[\"station_name\"])"
   ]
  },
  {
   "cell_type": "code",
   "execution_count": 98,
   "id": "5c536079",
   "metadata": {
    "scrolled": false
   },
   "outputs": [],
   "source": [
    "stations = json.loads(stations_df.to_json(orient=\"records\"))"
   ]
  },
  {
   "cell_type": "code",
   "execution_count": 99,
   "id": "4ef481c7",
   "metadata": {},
   "outputs": [
    {
     "data": {
      "text/plain": [
       "{'stop_id': 14407,\n",
       " 'stop_code': 13792,\n",
       " 'stop_name': 'York Mills Station - Southbound Platform',\n",
       " 'stop_desc': '',\n",
       " 'stop_lat': 43.743248,\n",
       " 'stop_lon': -79.405991,\n",
       " 'zone_id': '',\n",
       " 'stop_url': '',\n",
       " 'location_type': '',\n",
       " 'parent_station': '',\n",
       " 'stop_timezone': '',\n",
       " 'wheelchair_boarding': 1,\n",
       " 'station_name': 'York Mills'}"
      ]
     },
     "execution_count": 99,
     "metadata": {},
     "output_type": "execute_result"
    }
   ],
   "source": [
    "stations[3]"
   ]
  },
  {
   "cell_type": "code",
   "execution_count": null,
   "id": "ab52ce22",
   "metadata": {},
   "outputs": [],
   "source": []
  },
  {
   "cell_type": "markdown",
   "id": "c2abe047",
   "metadata": {},
   "source": [
    "#### Pick a random station"
   ]
  },
  {
   "cell_type": "code",
   "execution_count": 100,
   "id": "96b4c674",
   "metadata": {},
   "outputs": [
    {
     "name": "stdout",
     "output_type": "stream",
     "text": [
      "Number of stations: 75\n"
     ]
    }
   ],
   "source": [
    "print(f\"Number of stations: {len(stations)}\")"
   ]
  },
  {
   "cell_type": "code",
   "execution_count": 101,
   "id": "b3fc7052",
   "metadata": {},
   "outputs": [
    {
     "name": "stdout",
     "output_type": "stream",
     "text": [
      "Random index choice: 38\n"
     ]
    }
   ],
   "source": [
    "rand_i = randint(0, len(stations) - 1)\n",
    "print(f\"Random index choice: {rand_i}\")"
   ]
  },
  {
   "cell_type": "code",
   "execution_count": 102,
   "id": "e72aae5e",
   "metadata": {},
   "outputs": [
    {
     "data": {
      "text/plain": [
       "{'stop_id': 14474,\n",
       " 'stop_code': 13773,\n",
       " 'stop_name': 'High Park Station - Eastbound Platform',\n",
       " 'stop_desc': '',\n",
       " 'stop_lat': 43.653849,\n",
       " 'stop_lon': -79.466991,\n",
       " 'zone_id': '',\n",
       " 'stop_url': '',\n",
       " 'location_type': '',\n",
       " 'parent_station': '',\n",
       " 'stop_timezone': '',\n",
       " 'wheelchair_boarding': 2,\n",
       " 'station_name': 'High Park'}"
      ]
     },
     "execution_count": 102,
     "metadata": {},
     "output_type": "execute_result"
    }
   ],
   "source": [
    "stations[rand_i]"
   ]
  },
  {
   "cell_type": "code",
   "execution_count": null,
   "id": "3ea0cf58",
   "metadata": {},
   "outputs": [],
   "source": []
  },
  {
   "cell_type": "code",
   "execution_count": null,
   "id": "f051120d",
   "metadata": {},
   "outputs": [],
   "source": []
  },
  {
   "cell_type": "code",
   "execution_count": 83,
   "id": "c03eff55",
   "metadata": {
    "scrolled": false
   },
   "outputs": [],
   "source": [
    "# stations"
   ]
  },
  {
   "cell_type": "code",
   "execution_count": null,
   "id": "f2c12b4b",
   "metadata": {},
   "outputs": [],
   "source": []
  }
 ],
 "metadata": {
  "kernelspec": {
   "display_name": "Python 3 (ipykernel)",
   "language": "python",
   "name": "python3"
  },
  "language_info": {
   "codemirror_mode": {
    "name": "ipython",
    "version": 3
   },
   "file_extension": ".py",
   "mimetype": "text/x-python",
   "name": "python",
   "nbconvert_exporter": "python",
   "pygments_lexer": "ipython3",
   "version": "3.9.10"
  }
 },
 "nbformat": 4,
 "nbformat_minor": 5
}
